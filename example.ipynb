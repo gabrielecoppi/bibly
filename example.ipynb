{
 "cells": [
  {
   "cell_type": "code",
   "execution_count": null,
   "id": "158ddc3d-2361-48df-8421-e80b814c252f",
   "metadata": {},
   "outputs": [],
   "source": [
    "from __future__ import absolute_import, print_function\n",
    "import argparse\n",
    "import sys, os, re, html\n",
    "import json\n",
    "\n",
    "import urllib\n",
    "import pandas as pd\n",
    "from bibly.sources import ads, inspire\n",
    "from bibly import parser"
   ]
  },
  {
   "cell_type": "code",
   "execution_count": null,
   "id": "78fccd0d-8507-453e-86f6-b35a3154dc0a",
   "metadata": {},
   "outputs": [],
   "source": [
    "inspire_key = 'INSPIRE_KEY'\n",
    "inspire_id = 'INSPIRE_ID'\n",
    "\n",
    "ads_token = 'ADS_TOKEN'\n",
    "ads_author = 'ADS_AUTHOR'\n",
    "\n",
    "main_path = \"Path for bib files\""
   ]
  },
  {
   "cell_type": "markdown",
   "id": "a22ec090-46c4-446c-bb95-3ee3526706a4",
   "metadata": {},
   "source": [
    "# ADS Bibliography"
   ]
  },
  {
   "cell_type": "code",
   "execution_count": null,
   "id": "6ef30b97-105c-48c3-a560-3b5245f558dd",
   "metadata": {},
   "outputs": [],
   "source": [
    "nasa_bib = ads.nasa_ads(ads_author, ads_token)\n",
    "\n",
    "ads_bib, ads_cit_bib = nasa_bib.ads_bib(return_citations_id=False)"
   ]
  },
  {
   "cell_type": "markdown",
   "id": "861b876e-5efc-4a13-8a0c-041971742ee3",
   "metadata": {},
   "source": [
    "## Create ADS bibliography "
   ]
  },
  {
   "cell_type": "code",
   "execution_count": null,
   "id": "b80147f0-4b62-4039-a53d-00f1425d24e3",
   "metadata": {},
   "outputs": [],
   "source": [
    "b = parser.parser([ads_bib])\n",
    "bib = b.merge(remove_duplicate=False, cycle_remove=False)\n",
    "\n",
    "ads_path = main_path+\"\\\\ads\"\n",
    "\n",
    "_ = b.create_bib_file(bib, savefile=True, savepath=ads_path+\"\\\\ads_bib.bib\")\n",
    "\n",
    "if ads_cit_bib is not None:\n",
    "    for i in ads_cit_bib.keys():\n",
    "\n",
    "        b = parser.parser([ads_cit_bib[i]])\n",
    "        bib = b.merge(remove_duplicate=False, cycle_remove=False)\n",
    "        \n",
    "        name = ads_path+\"\\\\\"+str(i).strip()+\"_bib.bib\"\n",
    "        \n",
    "        _ = b.create_bib_file(bib, savefile=True, savepath=name)"
   ]
  },
  {
   "cell_type": "code",
   "execution_count": null,
   "id": "16922227-2043-4591-bd3d-9a957c4267ae",
   "metadata": {},
   "outputs": [],
   "source": [
    "bib"
   ]
  },
  {
   "cell_type": "markdown",
   "id": "3beda59f-90a8-40c9-abaa-1bf0008ba1a2",
   "metadata": {},
   "source": [
    "# INSPIRE Bibliography"
   ]
  },
  {
   "cell_type": "code",
   "execution_count": null,
   "id": "9c9d35e5-1ca4-4804-9415-e9b1ce4ea768",
   "metadata": {},
   "outputs": [],
   "source": [
    "ins = inspire.inspire(inspire_id)\n",
    "\n",
    "insp_bib, insp_cit_bib = ins.generate_full(return_citations_id = False)"
   ]
  },
  {
   "cell_type": "markdown",
   "id": "bd26a108-57d4-42f9-88bd-674575bfda10",
   "metadata": {},
   "source": [
    "## Create ADS bibliography"
   ]
  },
  {
   "cell_type": "code",
   "execution_count": null,
   "id": "7ba62e76-4b00-4d4c-8ca4-2a14796abc4d",
   "metadata": {},
   "outputs": [],
   "source": [
    "import importlib\n",
    "importlib.reload(parser)"
   ]
  },
  {
   "cell_type": "code",
   "execution_count": null,
   "id": "04426c38-eab4-4050-9f20-f9f1e7370c3d",
   "metadata": {},
   "outputs": [],
   "source": [
    "b = parser.parser([insp_bib])\n",
    "bib_insp = b.merge(remove_duplicate=False, cycle_remove=False)\n",
    "\n",
    "insp_path = main_path+\"\\\\inspire\"\n",
    "\n",
    "_ = b.create_bib_file(bib, savefile=True, savepath=insp_path+\"\\\\insp_bib.bib\")\n",
    "\n",
    "if insp_cit_bib is not None:\n",
    "    for i in insp_cit_bib.keys():\n",
    "        b = parser.parser([insp_cit_bib[i]])\n",
    "        bib = b.merge(remove_duplicate=False, cycle_remove=False)\n",
    "        \n",
    "        name = insp_path+\"\\\\\"+str(i).strip()+\"_bib.bib\"\n",
    "        \n",
    "        _ = b.create_bib_file(bib, savefile=True, savepath=name)"
   ]
  },
  {
   "cell_type": "markdown",
   "id": "80072c38-451f-4c7d-ba7b-4c76d7941897",
   "metadata": {},
   "source": [
    "# Merge Main Bibliography"
   ]
  },
  {
   "cell_type": "code",
   "execution_count": null,
   "id": "9005f673-d57e-47d2-a548-2ee8c9cfa41b",
   "metadata": {},
   "outputs": [],
   "source": [
    "b = parser.parser([insp_bib, ads_bib])\n",
    "\n",
    "bib = b.merge(remove_duplicate=True, cycle_remove=True, main_source='ads')\n",
    "_ = b.create_bib_file(bib, savefile=True, savepath=main_path+\"\\\\full_auth.bib\")"
   ]
  },
  {
   "cell_type": "code",
   "execution_count": null,
   "id": "f388918e-998a-4851-9783-2786fae8f847",
   "metadata": {},
   "outputs": [],
   "source": []
  }
 ],
 "metadata": {
  "kernelspec": {
   "display_name": "Python 3 (ipykernel)",
   "language": "python",
   "name": "python3"
  },
  "language_info": {
   "codemirror_mode": {
    "name": "ipython",
    "version": 3
   },
   "file_extension": ".py",
   "mimetype": "text/x-python",
   "name": "python",
   "nbconvert_exporter": "python",
   "pygments_lexer": "ipython3",
   "version": "3.9.9"
  }
 },
 "nbformat": 4,
 "nbformat_minor": 5
}
